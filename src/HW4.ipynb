{
 "cells": [
  {
   "cell_type": "code",
   "execution_count": 1,
   "id": "10a59bbb-2a0a-4733-abde-bd05934fca8f",
   "metadata": {},
   "outputs": [
    {
     "name": "stdout",
     "output_type": "stream",
     "text": [
      "There are  1006  drugs and  817  kinases.\n"
     ]
    }
   ],
   "source": [
    "import networkx as nx\n",
    "import matplotlib.pyplot as plt\n",
    "import csv\n",
    "import os\n",
    "\n",
    "#with open('/Users/lindseyhill/Documents/GitHub/BMME590-2024/data/Klaeger_LINCS.csv', mode = 'rb') as file:\n",
    "\n",
    "def count_rows(filename):\n",
    "    with open(filename, 'r') as file:\n",
    "        return sum(1 for line in file)\n",
    "\n",
    "def count_cols(filename):\n",
    "    with open(filename, 'r') as file:\n",
    "        reader = csv.reader(file)\n",
    "        row = next(reader)  # Read the header row\n",
    "        num_columns = len(row)\n",
    "        return num_columns\n",
    "\n",
    "print('There are ',count_rows('/Users/lindseyhill/Documents/GitHub/BMME590-2024/data/Klaeger_LINCS.csv') - 1,' drugs and ', count_cols('/Users/lindseyhill/Documents/GitHub/BMME590-2024/data/Klaeger_LINCS.csv') -2,' kinases.')"
   ]
  },
  {
   "cell_type": "code",
   "execution_count": null,
   "id": "5aa52fc8-f9cb-43ea-9fef-c663ea62c8e7",
   "metadata": {},
   "outputs": [],
   "source": []
  }
 