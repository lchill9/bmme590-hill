{
 "cells": [
  {
   "cell_type": "code",
   "execution_count": 1,
   "id": "10a59bbb-2a0a-4733-abde-bd05934fca8f",
   "metadata": {
    "jupyter": {
     "source_hidden": true
    }
   },
   "outputs": [
    {
     "name": "stdout",
     "output_type": "stream",
     "text": [
      "There are  1006  drugs and  817  kinases.\n"
     ]
    }
   ],
   "source": [
    "import networkx as nx\n",
    "import matplotlib.pyplot as plt\n",
    "import csv\n",
    "import os\n",
    "\n",
    "def convert_to_float(value):\n",
    "    try:\n",
    "        return float(value)\n",
    "    except ValueError:\n",
    "        return None\n",
    "\n",
    "def count_rows(filename):\n",
    "    with open(filename, 'r') as file:\n",
    "        return sum(1 for line in file)\n",
    "\n",
    "def count_cols(filename):\n",
    "    with open(filename, 'r') as file:\n",
    "        reader = csv.reader(file)\n",
    "        row = next(reader)  # Read the header row\n",
    "        num_columns = len(row)\n",
    "        return num_columns\n",
    "\n",
    "print('There are ',count_rows('/Users/lindseyhill/Documents/GitHub/BMME590-2024/data/Klaeger_LINCS.csv') - 1,' drugs and ', count_cols('/Users/lindseyhill/Documents/GitHub/BMME590-2024/data/Klaeger_LINCS.csv') -2,' kinases.')\n"
   ]
  },
  {
   "cell_type": "code",
   "execution_count": 2,
   "id": "5aa52fc8-f9cb-43ea-9fef-c663ea62c8e7",
   "metadata": {
    "jupyter": {
     "source_hidden": true
    }
   },
   "outputs": [
    {
     "data": {
      "image/png": "iVBORw0KGgoAAAANSUhEUgAAAigAAAHFCAYAAADYPwJEAAAAOXRFWHRTb2Z0d2FyZQBNYXRwbG90bGliIHZlcnNpb24zLjkuMiwgaHR0cHM6Ly9tYXRwbG90bGliLm9yZy8hTgPZAAAACXBIWXMAAA9hAAAPYQGoP6dpAAA70klEQVR4nO3de3zP9f//8fvbzpttZrQZsynCnPpEZCXkMOdSPlT40JdfOaQW8iFkqs+cyqGkPgnroOhAnz6fUIR9KtGIDkiFhQtzts2hbez5+8